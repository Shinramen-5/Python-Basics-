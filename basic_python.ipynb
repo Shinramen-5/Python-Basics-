{
  "nbformat": 4,
  "nbformat_minor": 0,
  "metadata": {
    "colab": {
      "provenance": [],
      "authorship_tag": "ABX9TyOpbf4EkKGhuK0khv+G7+v7",
      "include_colab_link": true
    },
    "kernelspec": {
      "name": "python3",
      "display_name": "Python 3"
    },
    "language_info": {
      "name": "python"
    }
  },
  "cells": [
    {
      "cell_type": "markdown",
      "metadata": {
        "id": "view-in-github",
        "colab_type": "text"
      },
      "source": [
        "<a href=\"https://colab.research.google.com/github/Shinramen-5/Python-Basics-/blob/main/basic_python.ipynb\" target=\"_parent\"><img src=\"https://colab.research.google.com/assets/colab-badge.svg\" alt=\"Open In Colab\"/></a>"
      ]
    },
    {
      "cell_type": "code",
      "execution_count": null,
      "metadata": {
        "colab": {
          "base_uri": "https://localhost:8080/"
        },
        "id": "k05UlbK9nGva",
        "outputId": "7645d1ba-d438-4f03-c1a8-00a47eb774a2"
      },
      "outputs": [
        {
          "output_type": "stream",
          "name": "stdout",
          "text": [
            "True\n"
          ]
        }
      ],
      "source": [
        "name = \"ramen\"\n",
        "print(name.isupper())"
      ]
    },
    {
      "cell_type": "code",
      "source": [
        "print(name.find('a'))\n",
        "print(name.find('n'))"
      ],
      "metadata": {
        "colab": {
          "base_uri": "https://localhost:8080/"
        },
        "id": "r_Tfoo_fz8Uj",
        "outputId": "f796c0b2-bb3a-4350-f76d-f270750a99e5"
      },
      "execution_count": null,
      "outputs": [
        {
          "output_type": "stream",
          "name": "stdout",
          "text": [
            "1\n",
            "4\n"
          ]
        }
      ]
    },
    {
      "cell_type": "code",
      "source": [
        "print(name.replace(\"ramen\",\"shinramen\"))\n",
        "print(name)\n",
        "print(name.replace(\"r\", \"a\"))"
      ],
      "metadata": {
        "colab": {
          "base_uri": "https://localhost:8080/"
        },
        "id": "4u_64Ds70ozd",
        "outputId": "afe95b40-7810-4d02-81ef-6f1b9694863e"
      },
      "execution_count": null,
      "outputs": [
        {
          "output_type": "stream",
          "name": "stdout",
          "text": [
            "shinramen\n",
            "ramen\n",
            "aamen\n"
          ]
        }
      ]
    },
    {
      "cell_type": "code",
      "source": [
        "print(5+3)\n",
        "print(7/3)\n",
        "print(7//3)\n",
        "print(7%3)\n",
        "print(7**3)"
      ],
      "metadata": {
        "colab": {
          "base_uri": "https://localhost:8080/"
        },
        "id": "Cig1JBq_1Q8c",
        "outputId": "82356d6a-0543-4819-a8b7-006d17811347"
      },
      "execution_count": null,
      "outputs": [
        {
          "output_type": "stream",
          "name": "stdout",
          "text": [
            "8\n",
            "2.3333333333333335\n",
            "2\n",
            "1\n",
            "343\n"
          ]
        }
      ]
    },
    {
      "cell_type": "code",
      "source": [
        "print(3>2)\n",
        "print(3==2)\n",
        "print(3==3)\n",
        "print(3!=3)            #! means not equal to\n",
        "# or operator\n",
        "print(2>3 or 2>1)\n",
        "# and operator (if both the conditions are same..it print true and rest of the cases it show false )\n",
        "print(3>2 and 2>1)\n",
        "print(3>2 and 6>7)\n",
        "#not operator(true ko false and false ko true)\n",
        "print(not 3>5)\n"
      ],
      "metadata": {
        "id": "fyY6JSjS5tFz",
        "colab": {
          "base_uri": "https://localhost:8080/"
        },
        "outputId": "9be41a20-38e9-4bbd-8974-863e5799d86e"
      },
      "execution_count": null,
      "outputs": [
        {
          "output_type": "stream",
          "name": "stdout",
          "text": [
            "True\n",
            "False\n",
            "True\n",
            "False\n",
            "True\n",
            "True\n",
            "False\n",
            "True\n"
          ]
        }
      ]
    },
    {
      "cell_type": "code",
      "source": [
        "age = 19\n",
        "if age >= 18:\n",
        "  print(\"you are an adult\")\n",
        "  print(\"you can vote\")\n",
        "\n",
        "print(\"thank you\")"
      ],
      "metadata": {
        "colab": {
          "base_uri": "https://localhost:8080/"
        },
        "id": "hCBLbJ3giy_K",
        "outputId": "667f2238-a102-4454-d592-aa3f22d9bcf9"
      },
      "execution_count": null,
      "outputs": [
        {
          "output_type": "stream",
          "name": "stdout",
          "text": [
            "you are an adult\n",
            "you can vote\n",
            "thank you\n"
          ]
        }
      ]
    },
    {
      "cell_type": "code",
      "source": [
        "age = 16\n",
        "if age >= 18:\n",
        "  print(\"you are an adult\")\n",
        "  print(\"you can vote\")        #this whole stat. goes unsatisified\n",
        "\n",
        "print(\"thank you\")\n",
        "\n"
      ],
      "metadata": {
        "colab": {
          "base_uri": "https://localhost:8080/"
        },
        "id": "WK3l8KcPjjvR",
        "outputId": "26567408-6e58-49af-8f04-925762d4670c"
      },
      "execution_count": null,
      "outputs": [
        {
          "output_type": "stream",
          "name": "stdout",
          "text": [
            "thank you\n"
          ]
        }
      ]
    },
    {
      "cell_type": "code",
      "source": [
        "first = (\"5  :\")\n",
        "operator = input(\"enter operator(+,-,*,/,%) :\")\n",
        "second = input(\" 20 :\")\n",
        "\n",
        "if operator == \"+\":\n",
        "   print(first + second)\n",
        " elif operator == \"-\":\n",
        "   print(first - second)\n",
        " elif operator == \"*\":  mh\n",
        "   print(first * second)\n",
        " elif operator == \"/\":\n",
        "   print(first / second)\n",
        " elif operator == \"%\":\n",
        "   print(first % second)\n",
        "else:\n",
        "  print(\"Invalid Operation\")"
      ],
      "metadata": {
        "colab": {
          "base_uri": "https://localhost:8080/",
          "height": 110
        },
        "id": "RUqOHKNdlmfV",
        "outputId": "dd729668-98bc-40e5-ff3f-8ed2d29a48f9"
      },
      "execution_count": null,
      "outputs": [
        {
          "output_type": "error",
          "ename": "IndentationError",
          "evalue": "unindent does not match any outer indentation level (<tokenize>, line 7)",
          "traceback": [
            "\u001b[0;36m  File \u001b[0;32m\"<tokenize>\"\u001b[0;36m, line \u001b[0;32m7\u001b[0m\n\u001b[0;31m    elif operator == \"-\":\u001b[0m\n\u001b[0m    ^\u001b[0m\n\u001b[0;31mIndentationError\u001b[0m\u001b[0;31m:\u001b[0m unindent does not match any outer indentation level\n"
          ]
        }
      ]
    },
    {
      "cell_type": "code",
      "source": [
        "numbers = range(100)\n",
        "print(numbers)"
      ],
      "metadata": {
        "id": "2ucNcT7x2zrl",
        "colab": {
          "base_uri": "https://localhost:8080/"
        },
        "outputId": "33766805-1f9e-422d-a5a3-e850647c3982"
      },
      "execution_count": null,
      "outputs": [
        {
          "output_type": "stream",
          "name": "stdout",
          "text": [
            "range(0, 100)\n"
          ]
        }
      ]
    },
    {
      "cell_type": "code",
      "source": [
        "i = 1\n",
        "while i <=10:            #loop\n",
        "  print(i)\n",
        "  i = i+1"
      ],
      "metadata": {
        "colab": {
          "base_uri": "https://localhost:8080/"
        },
        "id": "Qirfnf8At6cJ",
        "outputId": "ca19ad56-bcf8-4b40-868f-a69f0bc7d919"
      },
      "execution_count": null,
      "outputs": [
        {
          "output_type": "stream",
          "name": "stdout",
          "text": [
            "1\n",
            "2\n",
            "3\n",
            "4\n",
            "5\n",
            "6\n",
            "7\n",
            "8\n",
            "9\n",
            "10\n"
          ]
        }
      ]
    },
    {
      "cell_type": "code",
      "source": [
        "i = 1\n",
        "while i <= 5:\n",
        "  print(i * \"*\")\n",
        "  i = i+1"
      ],
      "metadata": {
        "colab": {
          "base_uri": "https://localhost:8080/"
        },
        "id": "0e2Zm9F_tck0",
        "outputId": "94821da4-280b-49d5-ab3e-86691ff93bdf"
      },
      "execution_count": null,
      "outputs": [
        {
          "output_type": "stream",
          "name": "stdout",
          "text": [
            "*\n",
            "**\n",
            "***\n",
            "****\n",
            "*****\n"
          ]
        }
      ]
    },
    {
      "cell_type": "code",
      "source": [
        "students = [\"ram\",\"lala\",\"bala\",\"petu\",\"shin\",\"kim\"]\n",
        "for student in students:\n",
        "  if student == \"petu\":\n",
        "   break\n",
        "  print(student)"
      ],
      "metadata": {
        "colab": {
          "base_uri": "https://localhost:8080/"
        },
        "id": "oqrVVGSliBM8",
        "outputId": "a88c9fb6-883d-474b-dd26-9868100ac05c"
      },
      "execution_count": null,
      "outputs": [
        {
          "output_type": "stream",
          "name": "stdout",
          "text": [
            "ram\n",
            "lala\n",
            "bala\n"
          ]
        }
      ]
    },
    {
      "cell_type": "code",
      "source": [
        "students = [\"ram\",\"lala\",\"bala\",\"petu\",\"shin\",\"kim\"]\n",
        "for a in students:\n",
        "  if a != \"bala\":\n",
        "   break\n",
        "  print(a)"
      ],
      "metadata": {
        "colab": {
          "base_uri": "https://localhost:8080/"
        },
        "id": "eXrlYH4bmwHA",
        "outputId": "7b36c8c3-7758-4eb7-cf09-54354cfe71a7"
      },
      "execution_count": null,
      "outputs": [
        {
          "output_type": "stream",
          "name": "stdout",
          "text": [
            "ram\n",
            "lala\n"
          ]
        }
      ]
    },
    {
      "cell_type": "code",
      "source": [
        "age=10\n",
        "if age<10:\n",
        "  print(\"chhota\")\n",
        "else:\n",
        "  print(\"bada\")"
      ],
      "metadata": {
        "id": "6uyTVRJenOiO",
        "colab": {
          "base_uri": "https://localhost:8080/"
        },
        "outputId": "95477fc2-27d4-4e1e-9bcf-07a2780e2c7c"
      },
      "execution_count": null,
      "outputs": [
        {
          "output_type": "stream",
          "name": "stdout",
          "text": [
            "bada\n"
          ]
        }
      ]
    },
    {
      "cell_type": "code",
      "source": [],
      "metadata": {
        "id": "EnsRpEuvC9Qw"
      },
      "execution_count": null,
      "outputs": []
    }
  ]
}